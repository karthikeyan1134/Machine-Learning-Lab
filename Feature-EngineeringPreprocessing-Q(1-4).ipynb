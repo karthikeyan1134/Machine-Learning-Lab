{
  "nbformat": 4,
  "nbformat_minor": 0,
  "metadata": {
    "colab": {
      "provenance": []
    },
    "kernelspec": {
      "name": "python3",
      "display_name": "Python 3"
    },
    "language_info": {
      "name": "python"
    }
  },
  "cells": [
    {
      "cell_type": "code",
      "execution_count": 1,
      "metadata": {
        "id": "4NAfXrBsE7fu",
        "colab": {
          "base_uri": "https://localhost:8080/"
        },
        "outputId": "6d677f1f-1164-4d74-b7f9-6886e7475045"
      },
      "outputs": [
        {
          "output_type": "stream",
          "name": "stdout",
          "text": [
            "Array (1x8 vector): [2 4 4 4 5 5 7 9]\n",
            "Mean of the vector: 5.0\n",
            "Variance of the vector: 4.57\n"
          ]
        }
      ],
      "source": [
        "import numpy as np\n",
        "\n",
        "vector = np.array([2, 4, 4, 4, 5, 5, 7, 9])\n",
        "\n",
        "mean=np.mean(vector)\n",
        "\n",
        "variance = np.var(vector,ddof=1) # ddof=1 gives simple variance\n",
        "\n",
        "# Output:\n",
        "print(f'Array (1x{len(vector)} vector): {vector}')\n",
        "print(f\"Mean of the vector: {mean}\")\n",
        "print(f\"Variance of the vector: {variance:.2f}\")\n",
        "\n",
        "\n",
        "# mean = 5.0\n",
        "# variance = 4.57"
      ]
    },
    {
      "cell_type": "code",
      "source": [
        "import numpy as np\n",
        "\n",
        "vector_x = np.array([2, 4, 6, 8, 10])\n",
        "vector_y = np.array([1, 3, 5, 7, 9])\n",
        "\n",
        "cov_matrix = np.cov(vector_x, vector_y, ddof=1)\n",
        "covariance = cov_matrix[0, 1]\n",
        "\n",
        "# Output\n",
        "print(f\"Covariance between vector_x and vector_y: {covariance:.2f}\")\n",
        "\n",
        "# covariance = 10.00"
      ],
      "metadata": {
        "colab": {
          "base_uri": "https://localhost:8080/"
        },
        "id": "_FlDHoS8MolD",
        "outputId": "9d1ec7b1-ece7-4b6a-8a56-c749cd385152"
      },
      "execution_count": 2,
      "outputs": [
        {
          "output_type": "stream",
          "name": "stdout",
          "text": [
            "Covariance between vector_x and vector_y: 10.00\n"
          ]
        }
      ]
    },
    {
      "cell_type": "code",
      "source": [
        "import numpy as np\n",
        "\n",
        "N = 10\n",
        "vector_x = np.array([10, 12, 18, 22, 29, 33, 37, 41, 25, 19])\n",
        "vector_y = np.array([8, 11, 17, 23, 28, 32, 35, 39, 22, 16])\n",
        "\n",
        "mean_x = np.mean(vector_x)\n",
        "mean_y = np.mean(vector_y)\n",
        "\n",
        "covariance = np.sum((vector_x - mean_x) * (vector_y - mean_y)) / (N - 1)\n",
        "\n",
        "variance_x = np.var(vector_x, ddof=1)\n",
        "variance_y = np.var(vector_y, ddof=1)\n",
        "\n",
        "correlation = covariance / np.sqrt(variance_x * variance_y)\n",
        "\n",
        "print(f'Vector X (1x{N} vector): {vector_x}')\n",
        "print(f'Vector Y (1x{N} vector): {vector_y}')\n",
        "print(f'Correlation: {correlation:.4f}')\n"
      ],
      "metadata": {
        "colab": {
          "base_uri": "https://localhost:8080/"
        },
        "id": "eAw514VXY2cB",
        "outputId": "48dd1597-939b-4363-dcb8-4c8f8a3377bc"
      },
      "execution_count": 3,
      "outputs": [
        {
          "output_type": "stream",
          "name": "stdout",
          "text": [
            "Vector X (1x10 vector): [10 12 18 22 29 33 37 41 25 19]\n",
            "Vector Y (1x10 vector): [ 8 11 17 23 28 32 35 39 22 16]\n",
            "Correlation: 0.9935\n"
          ]
        }
      ]
    },
    {
      "cell_type": "code",
      "source": [
        "import numpy as np\n",
        "\n",
        "M = 4\n",
        "N = 5\n",
        "\n",
        "matrix = np.array([\n",
        "    [1.2, 3.5, 5.7, 2.1, 4.4],\n",
        "    [6.8, 2.4, 3.6, 8.7, 5.9],\n",
        "    [4.3, 7.1, 8.2, 1.4, 3.7],\n",
        "    [9.8, 2.1, 4.5, 6.2, 7.0]\n",
        "])\n",
        "\n",
        "matrix_T = matrix.T\n",
        "\n",
        "covariance_matrix = np.cov(matrix_T, rowvar=False)\n",
        "\n",
        "correlation_matrix = np.corrcoef(matrix_T, rowvar=False)\n",
        "\n",
        "print(f'Matrix (MxN dimension):\\n{matrix}\\n')\n",
        "print(f'Covariance Matrix (MxM dimension):\\n{covariance_matrix}\\n')\n",
        "print(f'Correlation Matrix (MxM dimension):\\n{correlation_matrix}\\n')"
      ],
      "metadata": {
        "colab": {
          "base_uri": "https://localhost:8080/"
        },
        "id": "X2BdbJxSaA5V",
        "outputId": "b1c8842e-9081-4111-b4cf-c8fde5a1d51e"
      },
      "execution_count": 4,
      "outputs": [
        {
          "output_type": "stream",
          "name": "stdout",
          "text": [
            "Matrix (MxN dimension):\n",
            "[[1.2 3.5 5.7 2.1 4.4]\n",
            " [6.8 2.4 3.6 8.7 5.9]\n",
            " [4.3 7.1 8.2 1.4 3.7]\n",
            " [9.8 2.1 4.5 6.2 7. ]]\n",
            "\n",
            "Covariance Matrix (MxM dimension):\n",
            "[[ 3.207  -2.8255  3.121  -2.867 ]\n",
            " [-2.8255  6.327  -6.3865  5.228 ]\n",
            " [ 3.121  -6.3865  7.443  -4.4235]\n",
            " [-2.867   5.228  -4.4235  8.227 ]]\n",
            "\n",
            "Correlation Matrix (MxM dimension):\n",
            "[[ 1.         -0.62725902  0.6388079  -0.5581584 ]\n",
            " [-0.62725902  1.         -0.93065773  0.72462934]\n",
            " [ 0.6388079  -0.93065773  1.         -0.56528996]\n",
            " [-0.5581584   0.72462934 -0.56528996  1.        ]]\n",
            "\n"
          ]
        }
      ]
    }
  ]
}