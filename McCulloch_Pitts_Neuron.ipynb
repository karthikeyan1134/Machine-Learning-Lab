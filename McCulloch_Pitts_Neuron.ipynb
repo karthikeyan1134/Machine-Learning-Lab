{
  "nbformat": 4,
  "nbformat_minor": 0,
  "metadata": {
    "colab": {
      "provenance": []
    },
    "kernelspec": {
      "name": "python3",
      "display_name": "Python 3"
    },
    "language_info": {
      "name": "python"
    }
  },
  "cells": [
    {
      "cell_type": "code",
      "execution_count": 1,
      "metadata": {
        "colab": {
          "base_uri": "https://localhost:8080/"
        },
        "id": "EVpWlVdcJfXx",
        "outputId": "3056b2fe-17d8-49e5-a124-b139efe180ce"
      },
      "outputs": [
        {
          "output_type": "stream",
          "name": "stdout",
          "text": [
            "AND - Weights: [0.14263726 0.43966525] Threshold: 0.5245677472042539\n",
            "OR - Weights: [0.89741361 0.89440458] Threshold: 0.7372517242096095\n",
            "NOT - Weights: [-0.0173667] Threshold: -0.007472162498719542\n",
            "NAND - Weights: [-0.10256111 -0.16099787] Threshold: -0.24250812446976774\n",
            "NOR - Weights: [-0.14460362 -0.15708933] Threshold: -0.0727223080593058\n",
            "\n",
            "Testing Gates:\n",
            "AND(1, 1): 1\n",
            "AND(1, 0): 0\n",
            "OR(1, 0): 1\n",
            "OR(0, 0): 0\n",
            "NOT(1): 0\n",
            "NOT(0): 1\n",
            "NAND(1, 1): 0\n",
            "NAND(1, 0): 1\n",
            "NOR(0, 0): 1\n",
            "NOR(1, 0): 0\n"
          ]
        }
      ],
      "source": [
        "import numpy as np\n",
        "\n",
        "def train_perceptron(data, epochs=10000, lr=0.1):\n",
        "    n_inputs = len(data[0][0])\n",
        "    w = np.random.rand(n_inputs)\n",
        "    t = np.random.rand()\n",
        "\n",
        "    for _ in range(epochs):\n",
        "        for x, y in data:\n",
        "            weighted_sum = np.dot(x, w) - t\n",
        "            output = 1 if weighted_sum >= 0 else 0\n",
        "            error = y - output\n",
        "            w += lr * error * np.array(x)\n",
        "            t -= lr * error\n",
        "\n",
        "    return w, t\n",
        "\n",
        "and_data = [([1, 1], 1), ([1, 0], 0), ([0, 1], 0), ([0, 0], 0)]\n",
        "or_data = [([1, 1], 1), ([1, 0], 1), ([0, 1], 1), ([0, 0], 0)]\n",
        "not_data = [([1], 0), ([0], 1)]\n",
        "nand_data = [([1, 1], 0), ([1, 0], 1), ([0, 1], 1), ([0, 0], 1)]\n",
        "nor_data = [([1, 1], 0), ([1, 0], 0), ([0, 1], 0), ([0, 0], 1)]\n",
        "\n",
        "and_w, and_t = train_perceptron(and_data)\n",
        "print(\"AND - Weights:\", and_w, \"Threshold:\", and_t)\n",
        "\n",
        "or_w, or_t = train_perceptron(or_data)\n",
        "print(\"OR - Weights:\", or_w, \"Threshold:\", or_t)\n",
        "\n",
        "not_w, not_t = train_perceptron(not_data)\n",
        "print(\"NOT - Weights:\", not_w, \"Threshold:\", not_t)\n",
        "\n",
        "nand_w, nand_t = train_perceptron(nand_data)\n",
        "print(\"NAND - Weights:\", nand_w, \"Threshold:\", nand_t)\n",
        "\n",
        "nor_w, nor_t = train_perceptron(nor_data)\n",
        "print(\"NOR - Weights:\", nor_w, \"Threshold:\", nor_t)\n",
        "\n",
        "def perceptron_output(x, w, t):\n",
        "    return 1 if np.dot(x, w) - t >= 0 else 0\n",
        "\n",
        "print(\"\\nTesting Gates:\")\n",
        "print(\"AND(1, 1):\", perceptron_output([1, 1], and_w, and_t))\n",
        "print(\"AND(1, 0):\", perceptron_output([1, 0], and_w, and_t))\n",
        "print(\"OR(1, 0):\", perceptron_output([1, 0], or_w, or_t))\n",
        "print(\"OR(0, 0):\", perceptron_output([0, 0], or_w, or_t))\n",
        "print(\"NOT(1):\", perceptron_output([1], not_w, not_t))\n",
        "print(\"NOT(0):\", perceptron_output([0], not_w, not_t))\n",
        "print(\"NAND(1, 1):\", perceptron_output([1, 1], nand_w, nand_t))\n",
        "print(\"NAND(1, 0):\", perceptron_output([1, 0], nand_w, nand_t))\n",
        "print(\"NOR(0, 0):\", perceptron_output([0, 0], nor_w, nor_t))\n",
        "print(\"NOR(1, 0):\", perceptron_output([1, 0], nor_w, nor_t))\n"
      ]
    },
    {
      "cell_type": "code",
      "source": [
        "def XOR(x1, x2):\n",
        "    or_output = 1 if np.dot([x1, x2], or_w) - or_t >= 0 else 0\n",
        "    nand_output = 1 if np.dot([x1, x2], nand_w) - nand_t >= 0 else 0\n",
        "\n",
        "    xor_output = 1 if np.dot([or_output, nand_output], and_w) - and_t >= 0 else 0\n",
        "    return xor_output\n",
        "\n",
        "print(\"\\nTesting XOR Gate with Calculated Weights and Thresholds:\")\n",
        "print(\"XOR(0, 0):\", XOR(0, 0))  # Expected output: 0\n",
        "print(\"XOR(0, 1):\", XOR(0, 1))  # Expected output: 1\n",
        "print(\"XOR(1, 0):\", XOR(1, 0))  # Expected output: 1\n",
        "print(\"XOR(1, 1):\", XOR(1, 1))  # Expected output: 0\n"
      ],
      "metadata": {
        "colab": {
          "base_uri": "https://localhost:8080/"
        },
        "id": "HdUDJF5Th9jU",
        "outputId": "5c7eb9ff-6709-4517-cbfa-a0e25193cf73"
      },
      "execution_count": 2,
      "outputs": [
        {
          "output_type": "stream",
          "name": "stdout",
          "text": [
            "\n",
            "Testing XOR Gate with Calculated Weights and Thresholds:\n",
            "XOR(0, 0): 0\n",
            "XOR(0, 1): 1\n",
            "XOR(1, 0): 1\n",
            "XOR(1, 1): 0\n"
          ]
        }
      ]
    }
  ]
}