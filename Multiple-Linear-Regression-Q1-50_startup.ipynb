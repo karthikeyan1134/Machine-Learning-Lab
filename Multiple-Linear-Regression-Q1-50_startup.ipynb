{
  "nbformat": 4,
  "nbformat_minor": 0,
  "metadata": {
    "colab": {
      "provenance": []
    },
    "kernelspec": {
      "name": "python3",
      "display_name": "Python 3"
    },
    "language_info": {
      "name": "python"
    }
  },
  "cells": [
    {
      "cell_type": "code",
      "execution_count": 2,
      "metadata": {
        "id": "lN1uX4Xh5vHo"
      },
      "outputs": [],
      "source": [
        "import pandas as pd\n",
        "import numpy as np\n",
        "from sklearn.model_selection import train_test_split\n",
        "from sklearn.linear_model import LinearRegression\n",
        "from sklearn.preprocessing import StandardScaler\n",
        "from sklearn.metrics import mean_squared_error, mean_absolute_error, r2_score\n"
      ]
    },
    {
      "cell_type": "code",
      "source": [
        "# Load dataset\n",
        "startup_data = pd.read_csv('/content/drive/MyDrive/Colab Notebooks/CSE_303/Lab 2/50_Startups.csv')\n",
        "\n",
        "# One-hot encode the 'State' column\n",
        "startup_data = pd.get_dummies(startup_data, columns=['State'], drop_first=True)\n",
        "\n",
        "# Separate features (X) and target (y)\n",
        "features = startup_data.drop(columns=['Profit'])\n",
        "target = startup_data['Profit']"
      ],
      "metadata": {
        "id": "6JzRFV6B6lW8"
      },
      "execution_count": 3,
      "outputs": []
    },
    {
      "cell_type": "code",
      "source": [
        "\n",
        "# Scale the feature set\n",
        "scaler = StandardScaler()\n",
        "features_scaled = scaler.fit_transform(features)\n",
        "\n",
        "# Split the data into training and testing sets\n",
        "X_train, X_val, y_train, y_val = train_test_split(features_scaled, target, test_size=0.2, random_state=0)\n",
        "\n",
        "# Initialize and train the linear regression model\n",
        "reg_model = LinearRegression()\n",
        "reg_model.fit(X_train, y_train)\n",
        "\n",
        "# Predict the test set results\n",
        "predictions = reg_model.predict(X_val)\n",
        "\n",
        "# Evaluate model performance\n",
        "r2_score_val = r2_score(y_val, predictions)\n",
        "mse_val = mean_squared_error(y_val, predictions)\n",
        "rmse_val = np.sqrt(mse_val)\n",
        "mae_val = mean_absolute_error(y_val, predictions)"
      ],
      "metadata": {
        "id": "YA103mv96vRo"
      },
      "execution_count": 4,
      "outputs": []
    },
    {
      "cell_type": "code",
      "source": [
        "# Print the performance metrics with custom formatting\n",
        "print(f\"\\n--- Model Performance ---\")\n",
        "print(f\"R-squared (R²):                {r2_score_val:.4f}\")\n",
        "print(f\"Mean Squared Error (MSE):       {mse_val:.4f}\")\n",
        "print(f\"Root Mean Squared Error (RMSE): {rmse_val:.4f}\")\n",
        "print(f\"Mean Absolute Error (MAE):      {mae_val:.4f}\")"
      ],
      "metadata": {
        "id": "J1jWdYTZ61Bl",
        "colab": {
          "base_uri": "https://localhost:8080/"
        },
        "outputId": "dc47ced5-c057-4f56-ab98-d269425b3627"
      },
      "execution_count": 5,
      "outputs": [
        {
          "output_type": "stream",
          "name": "stdout",
          "text": [
            "\n",
            "--- Model Performance ---\n",
            "R-squared (R²):                0.9347\n",
            "Mean Squared Error (MSE):       83502864.0326\n",
            "Root Mean Squared Error (RMSE): 9137.9902\n",
            "Mean Absolute Error (MAE):      7514.2937\n"
          ]
        }
      ]
    },
    {
      "cell_type": "code",
      "source": [
        "import pandas as pd\n",
        "import numpy as np\n",
        "from sklearn.model_selection import train_test_split\n",
        "from sklearn.linear_model import LinearRegression\n",
        "from sklearn.preprocessing import StandardScaler\n",
        "from sklearn.metrics import mean_squared_error, mean_absolute_error, r2_score\n",
        "\n",
        "# Load dataset\n",
        "startup_data = pd.read_csv('50_Startups.csv')\n",
        "\n",
        "# One-hot encode the 'State' column\n",
        "startup_data = pd.get_dummies(startup_data, columns=['State'], drop_first=True)\n",
        "\n",
        "# Separate features (X) and target (y)\n",
        "features = startup_data.drop(columns=['Profit'])\n",
        "target = startup_data['Profit']\n",
        "\n",
        "# Scale the feature set\n",
        "scaler = StandardScaler()\n",
        "features_scaled = scaler.fit_transform(features)\n",
        "\n",
        "# Split the data into training and testing sets\n",
        "X_train, X_val, y_train, y_val = train_test_split(features_scaled, target, test_size=0.2, random_state=0)\n",
        "\n",
        "# Initialize and train the linear regression model\n",
        "reg_model = LinearRegression()\n",
        "reg_model.fit(X_train, y_train)\n",
        "\n",
        "# Predict the test set results\n",
        "predictions = reg_model.predict(X_val)\n",
        "\n",
        "# Evaluate model performance\n",
        "r2_score_val = r2_score(y_val, predictions)\n",
        "mse_val = mean_squared_error(y_val, predictions)\n",
        "rmse_val = np.sqrt(mse_val)\n",
        "mae_val = mean_absolute_error(y_val, predictions)\n",
        "\n",
        "# Print the performance metrics with custom formatting\n",
        "print(f\"\\n--- Model Performance ---\")\n",
        "print(f\"R-squared (R²):                {r2_score_val:.4f}\")\n",
        "print(f\"Mean Squared Error (MSE):       {mse_val:.4f}\")\n",
        "print(f\"Root Mean Squared Error (RMSE): {rmse_val:.4f}\")\n",
        "print(f\"Mean Absolute Error (MAE):      {mae_val:.4f}\")\n"
      ],
      "metadata": {
        "id": "_gHUmYkz8TXT"
      },
      "execution_count": null,
      "outputs": []
    }
  ]
}