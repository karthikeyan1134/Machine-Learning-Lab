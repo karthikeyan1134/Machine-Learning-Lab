{
  "nbformat": 4,
  "nbformat_minor": 0,
  "metadata": {
    "colab": {
      "provenance": []
    },
    "kernelspec": {
      "name": "python3",
      "display_name": "Python 3"
    },
    "language_info": {
      "name": "python"
    }
  },
  "cells": [
    {
      "cell_type": "code",
      "source": [
        "import pandas as pd\n",
        "from sklearn.model_selection import train_test_split\n",
        "from sklearn.tree import DecisionTreeClassifier\n",
        "from sklearn.metrics import accuracy_score\n",
        "\n",
        "df = pd.read_csv('/content/drive/MyDrive/Colab Notebooks/CSE_303/Datasets/diabetes.csv')\n",
        "y = df['Outcome']\n",
        "df = df.drop('Outcome', axis=1)"
      ],
      "metadata": {
        "id": "XHIs9YS52wlc"
      },
      "execution_count": 161,
      "outputs": []
    },
    {
      "cell_type": "code",
      "source": [
        "X_train, X_test, y_train, y_test = train_test_split(df, y, test_size=0.3, random_state=42)\n",
        "\n",
        "model = DecisionTreeClassifier(random_state=42)\n",
        "model.fit(X_train, y_train)\n",
        "\n",
        "y_pred = model.predict(X_test)\n",
        "accuracy = accuracy_score(y_test, y_pred)\n",
        "\n",
        "print(f'Accuracy Before: {accuracy}')"
      ],
      "metadata": {
        "colab": {
          "base_uri": "https://localhost:8080/"
        },
        "id": "lhnBkDMi4CZL",
        "outputId": "49bdbdb8-5cd3-49cb-9e32-b5ac2afd074d"
      },
      "execution_count": 162,
      "outputs": [
        {
          "output_type": "stream",
          "name": "stdout",
          "text": [
            "Accuracy Before: 0.7012987012987013\n"
          ]
        }
      ]
    },
    {
      "cell_type": "code",
      "source": [
        "# 1. Missing Values Ratio (Threshold 30%)\n",
        "\n",
        "missing_ratio = df.eq(0).sum() / len(df) * 100\n",
        "print('Missing ratio per feature:\\n', missing_ratio)\n",
        "\n",
        "missing_ratio\n",
        "X = df.loc[:, missing_ratio <= 30]\n",
        "\n",
        "X_train, X_test, y_train, y_test = train_test_split(X, y, test_size=0.3, random_state=42)\n",
        "\n",
        "model = DecisionTreeClassifier(random_state=42)\n",
        "model.fit(X_train, y_train)\n",
        "\n",
        "y_pred = model.predict(X_test)\n",
        "accuracy = accuracy_score(y_test, y_pred)\n",
        "\n",
        "print(f'\\nAccuracy After removing features with >30% missing values: {accuracy}')"
      ],
      "metadata": {
        "colab": {
          "base_uri": "https://localhost:8080/"
        },
        "id": "NKYUmfzrFi3G",
        "outputId": "5ceffe2d-e0eb-4fed-ef6c-90783e13562d"
      },
      "execution_count": 163,
      "outputs": [
        {
          "output_type": "stream",
          "name": "stdout",
          "text": [
            "Missing ratio per feature:\n",
            " Pregnancies                 14.453125\n",
            "Glucose                      0.651042\n",
            "BloodPressure                4.557292\n",
            "SkinThickness               29.557292\n",
            "Insulin                     48.697917\n",
            "BMI                          1.432292\n",
            "DiabetesPedigreeFunction     0.000000\n",
            "Age                          0.000000\n",
            "dtype: float64\n",
            "\n",
            "Accuracy After removing features with >30% missing values: 0.70995670995671\n"
          ]
        }
      ]
    },
    {
      "cell_type": "code",
      "source": [
        "# 3. High Correlation Filter (Correlation > 0.8)\n",
        "\n",
        "import numpy as np\n",
        "\n",
        "# Calculate the correlation matrix\n",
        "corr_matrix = df.corr().abs()\n",
        "\n",
        "# Identify pairs of highly correlated features (correlation > 0.8)\n",
        "upper_triangle = corr_matrix.where(np.triu(np.ones(corr_matrix.shape), k=1).astype(bool))\n",
        "to_drop = [column for column in upper_triangle.columns if any(upper_triangle[column] > 0.8)]\n",
        "\n",
        "print(f'Highly correlated features to drop: {to_drop}')\n",
        "\n",
        "# Drop highly correlated features\n",
        "df_reduced = df.drop(columns=to_drop)\n",
        "\n",
        "# Split data and train model using the reduced dataset\n",
        "X_train, X_test, y_train, y_test = train_test_split(df_reduced, y, test_size=0.2, random_state=42)\n",
        "\n",
        "# Train the model\n",
        "model = DecisionTreeClassifier(random_state=42)\n",
        "model.fit(X_train, y_train)\n",
        "\n",
        "# Predict and evaluate the accuracy on the reduced feature set\n",
        "y_pred = model.predict(X_test)\n",
        "accuracy = accuracy_score(y_test, y_pred)\n",
        "\n",
        "print(f'Accuracy after removing highly correlated features: {accuracy}')\n"
      ],
      "metadata": {
        "colab": {
          "base_uri": "https://localhost:8080/"
        },
        "id": "JvhjRT2KYlv0",
        "outputId": "afeb1f14-f9ec-46c8-d59c-03185d2d03f6"
      },
      "execution_count": 164,
      "outputs": [
        {
          "output_type": "stream",
          "name": "stdout",
          "text": [
            "Highly correlated features to drop: []\n",
            "Accuracy after removing highly correlated features: 0.7467532467532467\n"
          ]
        }
      ]
    },
    {
      "cell_type": "code",
      "source": [
        "# 5. Low Variance Filter\n",
        "\n",
        "from sklearn.feature_selection import VarianceThreshold\n",
        "\n",
        "# Apply low variance filter\n",
        "selector = VarianceThreshold(threshold=0.01)\n",
        "X_reduced = selector.fit_transform(df)\n",
        "y = y\n",
        "\n",
        "# Train model\n",
        "X_train, X_test, y_train, y_test = train_test_split(X_reduced, y, test_size=0.2, random_state=42)\n",
        "\n",
        "model.fit(X_train, y_train)\n",
        "y_pred = model.predict(X_test)\n",
        "accuracy = accuracy_score(y_test, y_pred)\n",
        "print(f'Accuracy after applying low variance filter: {accuracy}')\n"
      ],
      "metadata": {
        "colab": {
          "base_uri": "https://localhost:8080/"
        },
        "id": "YFIET2oAZIhA",
        "outputId": "3ab3a34f-c6d9-4d1d-e5b3-78c48849cef8"
      },
      "execution_count": 165,
      "outputs": [
        {
          "output_type": "stream",
          "name": "stdout",
          "text": [
            "Accuracy after applying low variance filter: 0.7467532467532467\n"
          ]
        }
      ]
    },
    {
      "cell_type": "code",
      "source": [
        "# 7. Forward Feature Selection\n",
        "\n",
        "from sklearn.feature_selection import SequentialFeatureSelector\n",
        "from sklearn.linear_model import LogisticRegression\n",
        "\n",
        "# Forward feature selection using logistic regression\n",
        "model = LogisticRegression(max_iter=1000)\n",
        "sfs = SequentialFeatureSelector(model, n_features_to_select=\"auto\", direction='forward')\n",
        "\n",
        "\n",
        "X = df\n",
        "y = y\n",
        "\n",
        "# Apply forward selection\n",
        "sfs.fit(X, y)\n",
        "X_selected = sfs.transform(X)\n",
        "\n",
        "# Train model on selected features\n",
        "X_train, X_test, y_train, y_test = train_test_split(X_selected, y, test_size=0.2, random_state=42)\n",
        "model.fit(X_train, y_train)\n",
        "y_pred = model.predict(X_test)\n",
        "accuracy = accuracy_score(y_test, y_pred)\n",
        "print(f'Accuracy with forward feature selection: {accuracy}')\n"
      ],
      "metadata": {
        "colab": {
          "base_uri": "https://localhost:8080/"
        },
        "id": "7YmeJsxVZgPQ",
        "outputId": "2826192e-583b-4c73-ad19-551d0c631add"
      },
      "execution_count": 166,
      "outputs": [
        {
          "output_type": "stream",
          "name": "stdout",
          "text": [
            "Accuracy with forward feature selection: 0.7532467532467533\n"
          ]
        }
      ]
    },
    {
      "cell_type": "code",
      "source": [
        "# 9. Backward Feature Elimination\n",
        "\n",
        "from sklearn.feature_selection import RFE\n",
        "from sklearn.tree import DecisionTreeClassifier\n",
        "\n",
        "# Recursive feature elimination using decision tree classifier\n",
        "model = DecisionTreeClassifier(random_state=42)\n",
        "rfe = RFE(model, n_features_to_select=5)  # Select top 5 features\n",
        "\n",
        "X = df\n",
        "y = y\n",
        "\n",
        "# Fit RFE\n",
        "rfe.fit(X, y)\n",
        "X_reduced = rfe.transform(X)\n",
        "\n",
        "# Train model on selected features\n",
        "X_train, X_test, y_train, y_test = train_test_split(X_reduced, y, test_size=0.2, random_state=42)\n",
        "model.fit(X_train, y_train)\n",
        "y_pred = model.predict(X_test)\n",
        "accuracy = accuracy_score(y_test, y_pred)\n",
        "print(f'Accuracy after backward feature elimination: {accuracy}')\n"
      ],
      "metadata": {
        "colab": {
          "base_uri": "https://localhost:8080/"
        },
        "id": "Pqx738HvamMy",
        "outputId": "06c95852-bdad-4186-b695-71a8c2021f31"
      },
      "execution_count": 167,
      "outputs": [
        {
          "output_type": "stream",
          "name": "stdout",
          "text": [
            "Accuracy after backward feature elimination: 0.7077922077922078\n"
          ]
        }
      ]
    },
    {
      "cell_type": "code",
      "source": [
        "# 11. Random Forest Feature Importance\n",
        "\n",
        "from sklearn.ensemble import RandomForestClassifier\n",
        "\n",
        "# Train random forest classifier\n",
        "model = RandomForestClassifier(random_state=42)\n",
        "X = df\n",
        "y = y\n",
        "\n",
        "model.fit(X, y)\n",
        "\n",
        "# Feature importance\n",
        "importances = model.feature_importances_\n",
        "indices = np.argsort(importances)[-5:]  # Keep top 5 features\n",
        "\n",
        "# Select top 5 important features\n",
        "X_reduced = X.iloc[:, indices]\n",
        "\n",
        "# Train model on top 5 features\n",
        "X_train, X_test, y_train, y_test = train_test_split(X_reduced, y, test_size=0.2, random_state=42)\n",
        "model.fit(X_train, y_train)\n",
        "y_pred = model.predict(X_test)\n",
        "accuracy = accuracy_score(y_test, y_pred)\n",
        "\n",
        "feature_names = df.columns\n",
        "top_features = feature_names[indices][:5]\n",
        "print(\"Top 5 features:\",top_features)\n",
        "X_train_reduced = X_train[top_features]\n",
        "X_test_reduced = X_test[top_features]\n",
        "\n",
        "rf_reduced = RandomForestClassifier(n_estimators=100, random_state=42)\n",
        "rf_reduced.fit(X_train_reduced, y_train)\n",
        "\n",
        "y_pred_reduced = rf_reduced.predict(X_test_reduced)\n",
        "accuracy_reduced = accuracy_score(y_test, y_pred_reduced)\n",
        "\n",
        "print(f\"Accuracy with all features: {accuracy_score(y_test, model.predict(X_test))}\")\n",
        "print(f\"Accuracy with top 5 features: {accuracy_reduced}\")"
      ],
      "metadata": {
        "colab": {
          "base_uri": "https://localhost:8080/"
        },
        "id": "DedRQq-ZayhY",
        "outputId": "2be7817e-d376-43fb-a977-e489bfe9e69a"
      },
      "execution_count": 168,
      "outputs": [
        {
          "output_type": "stream",
          "name": "stdout",
          "text": [
            "Top 5 features: Index(['BloodPressure', 'DiabetesPedigreeFunction', 'Age', 'BMI', 'Glucose'], dtype='object')\n",
            "Accuracy with all features: 0.7532467532467533\n",
            "Accuracy with top 5 features: 0.7532467532467533\n"
          ]
        }
      ]
    }
  ]
}